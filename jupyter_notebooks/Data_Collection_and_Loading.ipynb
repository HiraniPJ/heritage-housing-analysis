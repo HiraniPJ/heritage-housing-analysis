{
  "cells": [
    {
      "cell_type": "markdown",
      "metadata": {
        "id": "0aStgWSO0E0E"
      },
      "source": [
        "# **Data Collection and Loading**"
      ]
    },
    {
      "cell_type": "markdown",
      "metadata": {
        "id": "1eLEkw5O0ECa"
      },
      "source": [
        "## Objectives\n",
        "\n",
        "* Fetch data from Kaggle and prepare it for further processes.\n",
        "\n",
        "## Inputs\n",
        "\n",
        "* Kaggle JSON file: Authentication token.\n",
        "* Datasets:\n",
        "    * house_prices_records.csv: A dataset containing housing attributes and sale prices in Ames, Iowa.\n",
        "    * inherited_houses.csv: A dataset containing information on four inherited houses.\n",
        "\n",
        "## Outputs\n",
        "\n",
        "* Verified and cleaned datasets saved in the /data folder.\n",
        "\n",
        "## Additional Comments\n",
        "\n",
        "* No additional comments\n"
      ]
    },
    {
      "cell_type": "markdown",
      "metadata": {
        "id": "9uWZXH9LwoQg"
      },
      "source": [
        "---"
      ]
    },
    {
      "cell_type": "markdown",
      "metadata": {},
      "source": [
        "Import Packages"
      ]
    },
    {
      "cell_type": "code",
      "execution_count": 10,
      "metadata": {},
      "outputs": [
        {
          "name": "stdout",
          "output_type": "stream",
          "text": [
            "Requirement already satisfied: numpy==1.26.1 in /workspace/.pip-modules/lib/python3.12/site-packages (from -r ./requirements.txt (line 1)) (1.26.1)\n",
            "Requirement already satisfied: pandas==2.1.1 in /workspace/.pip-modules/lib/python3.12/site-packages (from -r ./requirements.txt (line 2)) (2.1.1)\n",
            "Requirement already satisfied: matplotlib==3.8.0 in /workspace/.pip-modules/lib/python3.12/site-packages (from -r ./requirements.txt (line 3)) (3.8.0)\n",
            "Requirement already satisfied: seaborn==0.13.2 in /workspace/.pip-modules/lib/python3.12/site-packages (from -r ./requirements.txt (line 4)) (0.13.2)\n",
            "Requirement already satisfied: ydata-profiling==4.12.0 in /workspace/.pip-modules/lib/python3.12/site-packages (from -r ./requirements.txt (line 5)) (4.12.0)\n",
            "Requirement already satisfied: plotly==5.17.0 in /workspace/.pip-modules/lib/python3.12/site-packages (from -r ./requirements.txt (line 6)) (5.17.0)\n",
            "Requirement already satisfied: ppscore==1.1.0 in /workspace/.pip-modules/lib/python3.12/site-packages (from -r ./requirements.txt (line 7)) (1.1.0)\n",
            "Requirement already satisfied: streamlit==1.40.2 in /workspace/.pip-modules/lib/python3.12/site-packages (from -r ./requirements.txt (line 8)) (1.40.2)\n",
            "Requirement already satisfied: feature-engine==1.6.1 in /workspace/.pip-modules/lib/python3.12/site-packages (from -r ./requirements.txt (line 9)) (1.6.1)\n",
            "Requirement already satisfied: imbalanced-learn==0.11.0 in /workspace/.pip-modules/lib/python3.12/site-packages (from -r ./requirements.txt (line 10)) (0.11.0)\n",
            "Requirement already satisfied: scikit-learn==1.3.1 in /workspace/.pip-modules/lib/python3.12/site-packages (from -r ./requirements.txt (line 11)) (1.3.1)\n",
            "Requirement already satisfied: xgboost==1.7.6 in /workspace/.pip-modules/lib/python3.12/site-packages (from -r ./requirements.txt (line 12)) (1.7.6)\n",
            "Requirement already satisfied: yellowbrick==1.5 in /workspace/.pip-modules/lib/python3.12/site-packages (from -r ./requirements.txt (line 13)) (1.5)\n",
            "Requirement already satisfied: Pillow==10.0.1 in /workspace/.pip-modules/lib/python3.12/site-packages (from -r ./requirements.txt (line 14)) (10.0.1)\n",
            "Requirement already satisfied: python-dateutil>=2.8.2 in /home/gitpod/.pyenv/versions/3.12.2/lib/python3.12/site-packages (from pandas==2.1.1->-r ./requirements.txt (line 2)) (2.9.0.post0)\n",
            "Requirement already satisfied: pytz>=2020.1 in /workspace/.pip-modules/lib/python3.12/site-packages (from pandas==2.1.1->-r ./requirements.txt (line 2)) (2024.2)\n",
            "Requirement already satisfied: tzdata>=2022.1 in /workspace/.pip-modules/lib/python3.12/site-packages (from pandas==2.1.1->-r ./requirements.txt (line 2)) (2024.2)\n",
            "Requirement already satisfied: contourpy>=1.0.1 in /workspace/.pip-modules/lib/python3.12/site-packages (from matplotlib==3.8.0->-r ./requirements.txt (line 3)) (1.3.1)\n",
            "Requirement already satisfied: cycler>=0.10 in /workspace/.pip-modules/lib/python3.12/site-packages (from matplotlib==3.8.0->-r ./requirements.txt (line 3)) (0.12.1)\n",
            "Requirement already satisfied: fonttools>=4.22.0 in /workspace/.pip-modules/lib/python3.12/site-packages (from matplotlib==3.8.0->-r ./requirements.txt (line 3)) (4.55.3)\n",
            "Requirement already satisfied: kiwisolver>=1.0.1 in /workspace/.pip-modules/lib/python3.12/site-packages (from matplotlib==3.8.0->-r ./requirements.txt (line 3)) (1.4.8)\n",
            "Requirement already satisfied: packaging>=20.0 in /home/gitpod/.pyenv/versions/3.12.2/lib/python3.12/site-packages (from matplotlib==3.8.0->-r ./requirements.txt (line 3)) (24.2)\n",
            "Requirement already satisfied: pyparsing>=2.3.1 in /workspace/.pip-modules/lib/python3.12/site-packages (from matplotlib==3.8.0->-r ./requirements.txt (line 3)) (3.2.1)\n",
            "Requirement already satisfied: scipy<1.14,>=1.4.1 in /workspace/.pip-modules/lib/python3.12/site-packages (from ydata-profiling==4.12.0->-r ./requirements.txt (line 5)) (1.13.1)\n",
            "Requirement already satisfied: pydantic>=2 in /workspace/.pip-modules/lib/python3.12/site-packages (from ydata-profiling==4.12.0->-r ./requirements.txt (line 5)) (2.10.4)\n",
            "Requirement already satisfied: PyYAML<6.1,>=5.0.0 in /home/gitpod/.pyenv/versions/3.12.2/lib/python3.12/site-packages (from ydata-profiling==4.12.0->-r ./requirements.txt (line 5)) (6.0.2)\n",
            "Requirement already satisfied: jinja2<3.2,>=2.11.1 in /home/gitpod/.pyenv/versions/3.12.2/lib/python3.12/site-packages (from ydata-profiling==4.12.0->-r ./requirements.txt (line 5)) (3.1.5)\n",
            "Requirement already satisfied: visions<0.7.7,>=0.7.5 in /workspace/.pip-modules/lib/python3.12/site-packages (from visions[type_image_path]<0.7.7,>=0.7.5->ydata-profiling==4.12.0->-r ./requirements.txt (line 5)) (0.7.6)\n",
            "Requirement already satisfied: htmlmin==0.1.12 in /workspace/.pip-modules/lib/python3.12/site-packages (from ydata-profiling==4.12.0->-r ./requirements.txt (line 5)) (0.1.12)\n",
            "Requirement already satisfied: phik<0.13,>=0.11.1 in /workspace/.pip-modules/lib/python3.12/site-packages (from ydata-profiling==4.12.0->-r ./requirements.txt (line 5)) (0.12.4)\n",
            "Requirement already satisfied: requests<3,>=2.24.0 in /home/gitpod/.pyenv/versions/3.12.2/lib/python3.12/site-packages (from ydata-profiling==4.12.0->-r ./requirements.txt (line 5)) (2.32.3)\n",
            "Requirement already satisfied: tqdm<5,>=4.48.2 in /workspace/.pip-modules/lib/python3.12/site-packages (from ydata-profiling==4.12.0->-r ./requirements.txt (line 5)) (4.67.1)\n",
            "Requirement already satisfied: multimethod<2,>=1.4 in /workspace/.pip-modules/lib/python3.12/site-packages (from ydata-profiling==4.12.0->-r ./requirements.txt (line 5)) (1.12)\n",
            "Requirement already satisfied: statsmodels<1,>=0.13.2 in /workspace/.pip-modules/lib/python3.12/site-packages (from ydata-profiling==4.12.0->-r ./requirements.txt (line 5)) (0.14.4)\n",
            "Requirement already satisfied: typeguard<5,>=3 in /workspace/.pip-modules/lib/python3.12/site-packages (from ydata-profiling==4.12.0->-r ./requirements.txt (line 5)) (4.4.1)\n",
            "Requirement already satisfied: imagehash==4.3.1 in /workspace/.pip-modules/lib/python3.12/site-packages (from ydata-profiling==4.12.0->-r ./requirements.txt (line 5)) (4.3.1)\n",
            "Requirement already satisfied: wordcloud>=1.9.3 in /workspace/.pip-modules/lib/python3.12/site-packages (from ydata-profiling==4.12.0->-r ./requirements.txt (line 5)) (1.9.4)\n",
            "Requirement already satisfied: dacite>=1.8 in /workspace/.pip-modules/lib/python3.12/site-packages (from ydata-profiling==4.12.0->-r ./requirements.txt (line 5)) (1.8.1)\n",
            "Requirement already satisfied: numba<1,>=0.56.0 in /workspace/.pip-modules/lib/python3.12/site-packages (from ydata-profiling==4.12.0->-r ./requirements.txt (line 5)) (0.60.0)\n",
            "Requirement already satisfied: tenacity>=6.2.0 in /workspace/.pip-modules/lib/python3.12/site-packages (from plotly==5.17.0->-r ./requirements.txt (line 6)) (9.0.0)\n",
            "Requirement already satisfied: altair<6,>=4.0 in /workspace/.pip-modules/lib/python3.12/site-packages (from streamlit==1.40.2->-r ./requirements.txt (line 8)) (5.5.0)\n",
            "Requirement already satisfied: blinker<2,>=1.0.0 in /workspace/.pip-modules/lib/python3.12/site-packages (from streamlit==1.40.2->-r ./requirements.txt (line 8)) (1.9.0)\n",
            "Requirement already satisfied: cachetools<6,>=4.0 in /workspace/.pip-modules/lib/python3.12/site-packages (from streamlit==1.40.2->-r ./requirements.txt (line 8)) (5.5.0)\n",
            "Requirement already satisfied: click<9,>=7.0 in /workspace/.pip-modules/lib/python3.12/site-packages (from streamlit==1.40.2->-r ./requirements.txt (line 8)) (8.1.8)\n",
            "Requirement already satisfied: protobuf<6,>=3.20 in /workspace/.pip-modules/lib/python3.12/site-packages (from streamlit==1.40.2->-r ./requirements.txt (line 8)) (5.29.2)\n",
            "Requirement already satisfied: pyarrow>=7.0 in /workspace/.pip-modules/lib/python3.12/site-packages (from streamlit==1.40.2->-r ./requirements.txt (line 8)) (18.1.0)\n",
            "Requirement already satisfied: rich<14,>=10.14.0 in /home/gitpod/.pyenv/versions/3.12.2/lib/python3.12/site-packages (from streamlit==1.40.2->-r ./requirements.txt (line 8)) (13.9.4)\n",
            "Requirement already satisfied: toml<2,>=0.10.1 in /workspace/.pip-modules/lib/python3.12/site-packages (from streamlit==1.40.2->-r ./requirements.txt (line 8)) (0.10.2)\n",
            "Requirement already satisfied: typing-extensions<5,>=4.3.0 in /home/gitpod/.pyenv/versions/3.12.2/lib/python3.12/site-packages (from streamlit==1.40.2->-r ./requirements.txt (line 8)) (4.12.2)\n",
            "Requirement already satisfied: watchdog<7,>=2.1.5 in /workspace/.pip-modules/lib/python3.12/site-packages (from streamlit==1.40.2->-r ./requirements.txt (line 8)) (6.0.0)\n",
            "Requirement already satisfied: gitpython!=3.1.19,<4,>=3.0.7 in /workspace/.pip-modules/lib/python3.12/site-packages (from streamlit==1.40.2->-r ./requirements.txt (line 8)) (3.1.44)\n",
            "Requirement already satisfied: pydeck<1,>=0.8.0b4 in /workspace/.pip-modules/lib/python3.12/site-packages (from streamlit==1.40.2->-r ./requirements.txt (line 8)) (0.9.1)\n",
            "Requirement already satisfied: tornado<7,>=6.0.3 in /home/gitpod/.pyenv/versions/3.12.2/lib/python3.12/site-packages (from streamlit==1.40.2->-r ./requirements.txt (line 8)) (6.4.2)\n",
            "Requirement already satisfied: joblib>=1.1.1 in /workspace/.pip-modules/lib/python3.12/site-packages (from imbalanced-learn==0.11.0->-r ./requirements.txt (line 10)) (1.4.2)\n",
            "Requirement already satisfied: threadpoolctl>=2.0.0 in /workspace/.pip-modules/lib/python3.12/site-packages (from imbalanced-learn==0.11.0->-r ./requirements.txt (line 10)) (3.5.0)\n",
            "Requirement already satisfied: PyWavelets in /workspace/.pip-modules/lib/python3.12/site-packages (from imagehash==4.3.1->ydata-profiling==4.12.0->-r ./requirements.txt (line 5)) (1.8.0)\n",
            "Requirement already satisfied: jsonschema>=3.0 in /home/gitpod/.pyenv/versions/3.12.2/lib/python3.12/site-packages (from altair<6,>=4.0->streamlit==1.40.2->-r ./requirements.txt (line 8)) (4.23.0)\n",
            "Requirement already satisfied: narwhals>=1.14.2 in /workspace/.pip-modules/lib/python3.12/site-packages (from altair<6,>=4.0->streamlit==1.40.2->-r ./requirements.txt (line 8)) (1.21.1)\n",
            "Requirement already satisfied: gitdb<5,>=4.0.1 in /workspace/.pip-modules/lib/python3.12/site-packages (from gitpython!=3.1.19,<4,>=3.0.7->streamlit==1.40.2->-r ./requirements.txt (line 8)) (4.0.12)\n",
            "Requirement already satisfied: MarkupSafe>=2.0 in /home/gitpod/.pyenv/versions/3.12.2/lib/python3.12/site-packages (from jinja2<3.2,>=2.11.1->ydata-profiling==4.12.0->-r ./requirements.txt (line 5)) (3.0.2)\n",
            "Requirement already satisfied: llvmlite<0.44,>=0.43.0dev0 in /workspace/.pip-modules/lib/python3.12/site-packages (from numba<1,>=0.56.0->ydata-profiling==4.12.0->-r ./requirements.txt (line 5)) (0.43.0)\n",
            "Requirement already satisfied: annotated-types>=0.6.0 in /workspace/.pip-modules/lib/python3.12/site-packages (from pydantic>=2->ydata-profiling==4.12.0->-r ./requirements.txt (line 5)) (0.7.0)\n",
            "Requirement already satisfied: pydantic-core==2.27.2 in /workspace/.pip-modules/lib/python3.12/site-packages (from pydantic>=2->ydata-profiling==4.12.0->-r ./requirements.txt (line 5)) (2.27.2)\n",
            "Requirement already satisfied: six>=1.5 in /home/gitpod/.pyenv/versions/3.12.2/lib/python3.12/site-packages (from python-dateutil>=2.8.2->pandas==2.1.1->-r ./requirements.txt (line 2)) (1.17.0)\n",
            "Requirement already satisfied: charset-normalizer<4,>=2 in /home/gitpod/.pyenv/versions/3.12.2/lib/python3.12/site-packages (from requests<3,>=2.24.0->ydata-profiling==4.12.0->-r ./requirements.txt (line 5)) (3.4.1)\n",
            "Requirement already satisfied: idna<4,>=2.5 in /home/gitpod/.pyenv/versions/3.12.2/lib/python3.12/site-packages (from requests<3,>=2.24.0->ydata-profiling==4.12.0->-r ./requirements.txt (line 5)) (3.10)\n",
            "Requirement already satisfied: urllib3<3,>=1.21.1 in /home/gitpod/.pyenv/versions/3.12.2/lib/python3.12/site-packages (from requests<3,>=2.24.0->ydata-profiling==4.12.0->-r ./requirements.txt (line 5)) (2.3.0)\n",
            "Requirement already satisfied: certifi>=2017.4.17 in /home/gitpod/.pyenv/versions/3.12.2/lib/python3.12/site-packages (from requests<3,>=2.24.0->ydata-profiling==4.12.0->-r ./requirements.txt (line 5)) (2024.12.14)\n",
            "Requirement already satisfied: markdown-it-py>=2.2.0 in /home/gitpod/.pyenv/versions/3.12.2/lib/python3.12/site-packages (from rich<14,>=10.14.0->streamlit==1.40.2->-r ./requirements.txt (line 8)) (3.0.0)\n",
            "Requirement already satisfied: pygments<3.0.0,>=2.13.0 in /home/gitpod/.pyenv/versions/3.12.2/lib/python3.12/site-packages (from rich<14,>=10.14.0->streamlit==1.40.2->-r ./requirements.txt (line 8)) (2.18.0)\n",
            "Requirement already satisfied: patsy>=0.5.6 in /workspace/.pip-modules/lib/python3.12/site-packages (from statsmodels<1,>=0.13.2->ydata-profiling==4.12.0->-r ./requirements.txt (line 5)) (1.0.1)\n",
            "Requirement already satisfied: attrs>=19.3.0 in /home/gitpod/.pyenv/versions/3.12.2/lib/python3.12/site-packages (from visions<0.7.7,>=0.7.5->visions[type_image_path]<0.7.7,>=0.7.5->ydata-profiling==4.12.0->-r ./requirements.txt (line 5)) (24.3.0)\n",
            "Requirement already satisfied: networkx>=2.4 in /workspace/.pip-modules/lib/python3.12/site-packages (from visions<0.7.7,>=0.7.5->visions[type_image_path]<0.7.7,>=0.7.5->ydata-profiling==4.12.0->-r ./requirements.txt (line 5)) (3.4.2)\n",
            "Requirement already satisfied: smmap<6,>=3.0.1 in /workspace/.pip-modules/lib/python3.12/site-packages (from gitdb<5,>=4.0.1->gitpython!=3.1.19,<4,>=3.0.7->streamlit==1.40.2->-r ./requirements.txt (line 8)) (5.0.2)\n",
            "Requirement already satisfied: jsonschema-specifications>=2023.03.6 in /home/gitpod/.pyenv/versions/3.12.2/lib/python3.12/site-packages (from jsonschema>=3.0->altair<6,>=4.0->streamlit==1.40.2->-r ./requirements.txt (line 8)) (2024.10.1)\n",
            "Requirement already satisfied: referencing>=0.28.4 in /home/gitpod/.pyenv/versions/3.12.2/lib/python3.12/site-packages (from jsonschema>=3.0->altair<6,>=4.0->streamlit==1.40.2->-r ./requirements.txt (line 8)) (0.35.1)\n",
            "Requirement already satisfied: rpds-py>=0.7.1 in /home/gitpod/.pyenv/versions/3.12.2/lib/python3.12/site-packages (from jsonschema>=3.0->altair<6,>=4.0->streamlit==1.40.2->-r ./requirements.txt (line 8)) (0.22.3)\n",
            "Requirement already satisfied: mdurl~=0.1 in /home/gitpod/.pyenv/versions/3.12.2/lib/python3.12/site-packages (from markdown-it-py>=2.2.0->rich<14,>=10.14.0->streamlit==1.40.2->-r ./requirements.txt (line 8)) (0.1.2)\n",
            "Note: you may need to restart the kernel to use updated packages.\n"
          ]
        }
      ],
      "source": [
        "# Install required packages\n",
        "%pip install -r ./requirements.txt"
      ]
    },
    {
      "cell_type": "code",
      "execution_count": 9,
      "metadata": {},
      "outputs": [
        {
          "name": "stdout",
          "output_type": "stream",
          "text": [
            "Python 3.12.2\n"
          ]
        }
      ],
      "source": [
        "# Check Python version\n",
        "!python --version"
      ]
    },
    {
      "cell_type": "code",
      "execution_count": 12,
      "metadata": {},
      "outputs": [
        {
          "name": "stdout",
          "output_type": "stream",
          "text": [
            "/home/gitpod/.pyenv/versions/3.12.2/bin/python\n"
          ]
        }
      ],
      "source": [
        "!which python"
      ]
    },
    {
      "cell_type": "code",
      "execution_count": 13,
      "metadata": {},
      "outputs": [
        {
          "name": "stdout",
          "output_type": "stream",
          "text": [
            "Requirement already satisfied: pandas in /workspace/.pip-modules/lib/python3.12/site-packages (2.1.1)\n",
            "Requirement already satisfied: numpy>=1.26.0 in /workspace/.pip-modules/lib/python3.12/site-packages (from pandas) (1.26.1)\n",
            "Requirement already satisfied: python-dateutil>=2.8.2 in /home/gitpod/.pyenv/versions/3.12.2/lib/python3.12/site-packages (from pandas) (2.9.0.post0)\n",
            "Requirement already satisfied: pytz>=2020.1 in /workspace/.pip-modules/lib/python3.12/site-packages (from pandas) (2024.2)\n",
            "Requirement already satisfied: tzdata>=2022.1 in /workspace/.pip-modules/lib/python3.12/site-packages (from pandas) (2024.2)\n",
            "Requirement already satisfied: six>=1.5 in /home/gitpod/.pyenv/versions/3.12.2/lib/python3.12/site-packages (from python-dateutil>=2.8.2->pandas) (1.17.0)\n",
            "Note: you may need to restart the kernel to use updated packages.\n"
          ]
        }
      ],
      "source": [
        "%pip install pandas"
      ]
    },
    {
      "cell_type": "code",
      "execution_count": 2,
      "metadata": {},
      "outputs": [],
      "source": [
        "# Import required libraries\n",
        "import pandas as pd\n",
        "import numpy as np\n",
        "import os\n",
        "import zipfile"
      ]
    },
    {
      "cell_type": "markdown",
      "metadata": {
        "id": "cqP-UeN-z3i2"
      },
      "source": [
        "# Change working directory"
      ]
    },
    {
      "cell_type": "code",
      "execution_count": 3,
      "metadata": {
        "id": "wZfF_j-Bz3i4",
        "outputId": "66943449-1436-4c3d-85c7-b85f9f78349b"
      },
      "outputs": [
        {
          "data": {
            "text/plain": [
              "'/workspace/heritage-housing-analysis/jupyter_notebooks'"
            ]
          },
          "execution_count": 3,
          "metadata": {},
          "output_type": "execute_result"
        }
      ],
      "source": [
        "import os\n",
        "current_dir = os.getcwd()\n",
        "current_dir"
      ]
    },
    {
      "cell_type": "code",
      "execution_count": 4,
      "metadata": {
        "id": "TwHsQRWjz3i9",
        "outputId": "86849db3-cd2f-4cc5-ebb8-2d0caafa1a2c"
      },
      "outputs": [
        {
          "name": "stdout",
          "output_type": "stream",
          "text": [
            "You set a new current directory\n"
          ]
        }
      ],
      "source": [
        "os.chdir(os.path.dirname(current_dir))\n",
        "print(\"You set a new current directory\")"
      ]
    },
    {
      "cell_type": "markdown",
      "metadata": {
        "id": "M_xPk_Ijz3i-"
      },
      "source": [
        "Confirm the new current directory"
      ]
    },
    {
      "cell_type": "code",
      "execution_count": 5,
      "metadata": {
        "id": "vz3S-_kjz3jA",
        "outputId": "00b79ae4-75d0-4a96-d193-ac9ef9847ea2"
      },
      "outputs": [
        {
          "data": {
            "text/plain": [
              "'/workspace/heritage-housing-analysis'"
            ]
          },
          "execution_count": 5,
          "metadata": {},
          "output_type": "execute_result"
        }
      ],
      "source": [
        "current_dir = os.getcwd()\n",
        "current_dir"
      ]
    },
    {
      "cell_type": "markdown",
      "metadata": {
        "id": "-mavJ8DibrcQ"
      },
      "source": [
        "# Install Kaggle API and Authenticate"
      ]
    },
    {
      "cell_type": "code",
      "execution_count": 7,
      "metadata": {},
      "outputs": [
        {
          "name": "stdout",
          "output_type": "stream",
          "text": [
            "Requirement already satisfied: kaggle==1.5.12 in /workspace/.pip-modules/lib/python3.12/site-packages (1.5.12)\n",
            "Requirement already satisfied: six>=1.10 in /home/gitpod/.pyenv/versions/3.12.2/lib/python3.12/site-packages (from kaggle==1.5.12) (1.17.0)\n",
            "Requirement already satisfied: certifi in /home/gitpod/.pyenv/versions/3.12.2/lib/python3.12/site-packages (from kaggle==1.5.12) (2024.12.14)\n",
            "Requirement already satisfied: python-dateutil in /home/gitpod/.pyenv/versions/3.12.2/lib/python3.12/site-packages (from kaggle==1.5.12) (2.9.0.post0)\n",
            "Requirement already satisfied: requests in /home/gitpod/.pyenv/versions/3.12.2/lib/python3.12/site-packages (from kaggle==1.5.12) (2.32.3)\n",
            "Requirement already satisfied: tqdm in /workspace/.pip-modules/lib/python3.12/site-packages (from kaggle==1.5.12) (4.67.1)\n",
            "Requirement already satisfied: python-slugify in /workspace/.pip-modules/lib/python3.12/site-packages (from kaggle==1.5.12) (8.0.4)\n",
            "Requirement already satisfied: urllib3 in /home/gitpod/.pyenv/versions/3.12.2/lib/python3.12/site-packages (from kaggle==1.5.12) (2.3.0)\n",
            "Requirement already satisfied: text-unidecode>=1.3 in /workspace/.pip-modules/lib/python3.12/site-packages (from python-slugify->kaggle==1.5.12) (1.3)\n",
            "Requirement already satisfied: charset-normalizer<4,>=2 in /home/gitpod/.pyenv/versions/3.12.2/lib/python3.12/site-packages (from requests->kaggle==1.5.12) (3.4.1)\n",
            "Requirement already satisfied: idna<4,>=2.5 in /home/gitpod/.pyenv/versions/3.12.2/lib/python3.12/site-packages (from requests->kaggle==1.5.12) (3.10)\n",
            "Note: you may need to restart the kernel to use updated packages.\n"
          ]
        }
      ],
      "source": [
        "# Install Kaggle\n",
        "%pip install kaggle==1.5.12"
      ]
    },
    {
      "cell_type": "code",
      "execution_count": 15,
      "metadata": {},
      "outputs": [],
      "source": [
        "# Set Kaggle authentication\n",
        "os.environ['KAGGLE_CONFIG_DIR'] = os.getcwd()\n",
        "! chmod 600 kaggle.json\n"
      ]
    },
    {
      "cell_type": "markdown",
      "metadata": {
        "id": "ZY3l0-AxO93d"
      },
      "source": [
        "---"
      ]
    },
    {
      "cell_type": "markdown",
      "metadata": {
        "id": "uFQo3ycuO-v6"
      },
      "source": [
        "# Download Datasets from Kaggle"
      ]
    },
    {
      "cell_type": "code",
      "execution_count": 17,
      "metadata": {},
      "outputs": [
        {
          "name": "stdout",
          "output_type": "stream",
          "text": [
            "Downloading housing-prices-data.zip to data\n",
            "  0%|                                               | 0.00/49.6k [00:00<?, ?B/s]\n",
            "100%|██████████████████████████████████████| 49.6k/49.6k [00:00<00:00, 54.0MB/s]\n"
          ]
        }
      ],
      "source": [
        "# Define Kaggle dataset path and destination folder\n",
        "kaggle_dataset_path = \"codeinstitute/housing-prices-data\"\n",
        "destination_folder = \"data\"\n",
        "\n",
        "# Download dataset from Kaggle\n",
        "! kaggle datasets download -d {kaggle_dataset_path} -p {destination_folder}"
      ]
    },
    {
      "cell_type": "code",
      "execution_count": 19,
      "metadata": {},
      "outputs": [
        {
          "name": "stdout",
          "output_type": "stream",
          "text": [
            "Dataset successfully downloaded and extracted.\n"
          ]
        }
      ],
      "source": [
        "# Unzip the downloaded dataset\n",
        "with zipfile.ZipFile(f\"{destination_folder}/housing-prices-data.zip\", 'r') as zip_ref:\n",
        "    zip_ref.extractall(destination_folder)\n",
        "\n",
        "# Remove the zip file after extraction\n",
        "os.remove(f\"{destination_folder}/housing-prices-data.zip\")\n",
        "\n",
        "print(\"Dataset successfully downloaded and extracted.\")"
      ]
    },
    {
      "cell_type": "markdown",
      "metadata": {},
      "source": [
        "# Inspect Datasets"
      ]
    },
    {
      "cell_type": "code",
      "execution_count": 23,
      "metadata": {},
      "outputs": [
        {
          "name": "stdout",
          "output_type": "stream",
          "text": [
            "House Prices Dataset:\n",
            "<class 'pandas.core.frame.DataFrame'>\n",
            "RangeIndex: 1460 entries, 0 to 1459\n",
            "Data columns (total 24 columns):\n",
            " #   Column         Non-Null Count  Dtype  \n",
            "---  ------         --------------  -----  \n",
            " 0   1stFlrSF       1460 non-null   int64  \n",
            " 1   2ndFlrSF       1374 non-null   float64\n",
            " 2   BedroomAbvGr   1361 non-null   float64\n",
            " 3   BsmtExposure   1422 non-null   object \n",
            " 4   BsmtFinSF1     1460 non-null   int64  \n",
            " 5   BsmtFinType1   1315 non-null   object \n",
            " 6   BsmtUnfSF      1460 non-null   int64  \n",
            " 7   EnclosedPorch  136 non-null    float64\n",
            " 8   GarageArea     1460 non-null   int64  \n",
            " 9   GarageFinish   1225 non-null   object \n",
            " 10  GarageYrBlt    1379 non-null   float64\n",
            " 11  GrLivArea      1460 non-null   int64  \n",
            " 12  KitchenQual    1460 non-null   object \n",
            " 13  LotArea        1460 non-null   int64  \n",
            " 14  LotFrontage    1201 non-null   float64\n",
            " 15  MasVnrArea     1452 non-null   float64\n",
            " 16  OpenPorchSF    1460 non-null   int64  \n",
            " 17  OverallCond    1460 non-null   int64  \n",
            " 18  OverallQual    1460 non-null   int64  \n",
            " 19  TotalBsmtSF    1460 non-null   int64  \n",
            " 20  WoodDeckSF     155 non-null    float64\n",
            " 21  YearBuilt      1460 non-null   int64  \n",
            " 22  YearRemodAdd   1460 non-null   int64  \n",
            " 23  SalePrice      1460 non-null   int64  \n",
            "dtypes: float64(7), int64(13), object(4)\n",
            "memory usage: 273.9+ KB\n",
            "None\n",
            "   1stFlrSF  2ndFlrSF  BedroomAbvGr BsmtExposure  BsmtFinSF1 BsmtFinType1  \\\n",
            "0       856     854.0           3.0           No         706          GLQ   \n",
            "1      1262       0.0           3.0           Gd         978          ALQ   \n",
            "2       920     866.0           3.0           Mn         486          GLQ   \n",
            "3       961       NaN           NaN           No         216          ALQ   \n",
            "4      1145       NaN           4.0           Av         655          GLQ   \n",
            "\n",
            "   BsmtUnfSF  EnclosedPorch  GarageArea GarageFinish  ...  LotFrontage  \\\n",
            "0        150            0.0         548          RFn  ...         65.0   \n",
            "1        284            NaN         460          RFn  ...         80.0   \n",
            "2        434            0.0         608          RFn  ...         68.0   \n",
            "3        540            NaN         642          Unf  ...         60.0   \n",
            "4        490            0.0         836          RFn  ...         84.0   \n",
            "\n",
            "   MasVnrArea OpenPorchSF  OverallCond  OverallQual  TotalBsmtSF  WoodDeckSF  \\\n",
            "0       196.0          61            5            7          856         0.0   \n",
            "1         0.0           0            8            6         1262         NaN   \n",
            "2       162.0          42            5            7          920         NaN   \n",
            "3         0.0          35            5            7          756         NaN   \n",
            "4       350.0          84            5            8         1145         NaN   \n",
            "\n",
            "   YearBuilt  YearRemodAdd  SalePrice  \n",
            "0       2003          2003     208500  \n",
            "1       1976          1976     181500  \n",
            "2       2001          2002     223500  \n",
            "3       1915          1970     140000  \n",
            "4       2000          2000     250000  \n",
            "\n",
            "[5 rows x 24 columns]\n",
            "\n",
            "Inherited Houses Dataset:\n",
            "<class 'pandas.core.frame.DataFrame'>\n",
            "RangeIndex: 4 entries, 0 to 3\n",
            "Data columns (total 23 columns):\n",
            " #   Column         Non-Null Count  Dtype  \n",
            "---  ------         --------------  -----  \n",
            " 0   1stFlrSF       4 non-null      int64  \n",
            " 1   2ndFlrSF       4 non-null      int64  \n",
            " 2   BedroomAbvGr   4 non-null      int64  \n",
            " 3   BsmtExposure   4 non-null      object \n",
            " 4   BsmtFinSF1     4 non-null      float64\n",
            " 5   BsmtFinType1   4 non-null      object \n",
            " 6   BsmtUnfSF      4 non-null      float64\n",
            " 7   EnclosedPorch  4 non-null      int64  \n",
            " 8   GarageArea     4 non-null      float64\n",
            " 9   GarageFinish   4 non-null      object \n",
            " 10  GarageYrBlt    4 non-null      float64\n",
            " 11  GrLivArea      4 non-null      int64  \n",
            " 12  KitchenQual    4 non-null      object \n",
            " 13  LotArea        4 non-null      int64  \n",
            " 14  LotFrontage    4 non-null      float64\n",
            " 15  MasVnrArea     4 non-null      float64\n",
            " 16  OpenPorchSF    4 non-null      int64  \n",
            " 17  OverallCond    4 non-null      int64  \n",
            " 18  OverallQual    4 non-null      int64  \n",
            " 19  TotalBsmtSF    4 non-null      float64\n",
            " 20  WoodDeckSF     4 non-null      int64  \n",
            " 21  YearBuilt      4 non-null      int64  \n",
            " 22  YearRemodAdd   4 non-null      int64  \n",
            "dtypes: float64(7), int64(12), object(4)\n",
            "memory usage: 868.0+ bytes\n",
            "None\n",
            "   1stFlrSF  2ndFlrSF  BedroomAbvGr BsmtExposure  BsmtFinSF1 BsmtFinType1  \\\n",
            "0       896         0             2           No       468.0          Rec   \n",
            "1      1329         0             3           No       923.0          ALQ   \n",
            "2       928       701             3           No       791.0          GLQ   \n",
            "3       926       678             3           No       602.0          GLQ   \n",
            "\n",
            "   BsmtUnfSF  EnclosedPorch  GarageArea GarageFinish  ...  LotArea  \\\n",
            "0      270.0              0       730.0          Unf  ...    11622   \n",
            "1      406.0              0       312.0          Unf  ...    14267   \n",
            "2      137.0              0       482.0          Fin  ...    13830   \n",
            "3      324.0              0       470.0          Fin  ...     9978   \n",
            "\n",
            "   LotFrontage MasVnrArea  OpenPorchSF  OverallCond  OverallQual  TotalBsmtSF  \\\n",
            "0         80.0        0.0            0            6            5        882.0   \n",
            "1         81.0      108.0           36            6            6       1329.0   \n",
            "2         74.0        0.0           34            5            5        928.0   \n",
            "3         78.0       20.0           36            6            6        926.0   \n",
            "\n",
            "   WoodDeckSF  YearBuilt  YearRemodAdd  \n",
            "0         140       1961          1961  \n",
            "1         393       1958          1958  \n",
            "2         212       1997          1998  \n",
            "3         360       1998          1998  \n",
            "\n",
            "[4 rows x 23 columns]\n"
          ]
        }
      ],
      "source": [
        "# Load datasets\n",
        "house_prices_path = \"data/house_prices_records.csv\"\n",
        "inherited_houses_path = \"data/inherited_houses.csv\"\n",
        "\n",
        "house_prices_df = pd.read_csv(house_prices_path)\n",
        "inherited_houses_df = pd.read_csv(inherited_houses_path)\n",
        "\n",
        "# Inspect the datasets\n",
        "print(\"House Prices Dataset:\")\n",
        "print(house_prices_df.info())\n",
        "print(house_prices_df.head())\n",
        "\n",
        "print(\"\\nInherited Houses Dataset:\")\n",
        "print(inherited_houses_df.info())\n",
        "print(inherited_houses_df.head())"
      ]
    },
    {
      "cell_type": "markdown",
      "metadata": {},
      "source": [
        "# Handle Missing Data"
      ]
    },
    {
      "cell_type": "code",
      "execution_count": 30,
      "metadata": {},
      "outputs": [
        {
          "name": "stdout",
          "output_type": "stream",
          "text": [
            "Missing values in House Prices Dataset:\n",
            "1stFlrSF            0\n",
            "2ndFlrSF           86\n",
            "BedroomAbvGr       99\n",
            "BsmtExposure       38\n",
            "BsmtFinSF1          0\n",
            "BsmtFinType1      145\n",
            "BsmtUnfSF           0\n",
            "EnclosedPorch    1324\n",
            "GarageArea          0\n",
            "GarageFinish      235\n",
            "GarageYrBlt        81\n",
            "GrLivArea           0\n",
            "KitchenQual         0\n",
            "LotArea             0\n",
            "LotFrontage       259\n",
            "MasVnrArea          8\n",
            "OpenPorchSF         0\n",
            "OverallCond         0\n",
            "OverallQual         0\n",
            "TotalBsmtSF         0\n",
            "WoodDeckSF       1305\n",
            "YearBuilt           0\n",
            "YearRemodAdd        0\n",
            "SalePrice           0\n",
            "dtype: int64\n",
            "\n",
            "Missing values in Inherited Houses Dataset:\n",
            "1stFlrSF         0\n",
            "2ndFlrSF         0\n",
            "BedroomAbvGr     0\n",
            "BsmtExposure     0\n",
            "BsmtFinSF1       0\n",
            "BsmtFinType1     0\n",
            "BsmtUnfSF        0\n",
            "EnclosedPorch    0\n",
            "GarageArea       0\n",
            "GarageFinish     0\n",
            "GarageYrBlt      0\n",
            "GrLivArea        0\n",
            "KitchenQual      0\n",
            "LotArea          0\n",
            "LotFrontage      0\n",
            "MasVnrArea       0\n",
            "OpenPorchSF      0\n",
            "OverallCond      0\n",
            "OverallQual      0\n",
            "TotalBsmtSF      0\n",
            "WoodDeckSF       0\n",
            "YearBuilt        0\n",
            "YearRemodAdd     0\n",
            "dtype: int64\n",
            "Missing data handled successfully!\n",
            "1stFlrSF         0\n",
            "2ndFlrSF         0\n",
            "BedroomAbvGr     0\n",
            "BsmtExposure     0\n",
            "BsmtFinSF1       0\n",
            "BsmtFinType1     0\n",
            "BsmtUnfSF        0\n",
            "EnclosedPorch    0\n",
            "GarageArea       0\n",
            "GarageFinish     0\n",
            "GarageYrBlt      0\n",
            "GrLivArea        0\n",
            "KitchenQual      0\n",
            "LotArea          0\n",
            "LotFrontage      0\n",
            "MasVnrArea       0\n",
            "OpenPorchSF      0\n",
            "OverallCond      0\n",
            "OverallQual      0\n",
            "TotalBsmtSF      0\n",
            "WoodDeckSF       0\n",
            "YearBuilt        0\n",
            "YearRemodAdd     0\n",
            "dtype: int64\n"
          ]
        }
      ],
      "source": [
        "# Check for missing data\n",
        "print(\"Missing values in House Prices Dataset:\")\n",
        "print(house_prices_df.isnull().sum())\n",
        "\n",
        "print(\"\\nMissing values in Inherited Houses Dataset:\")\n",
        "print(inherited_houses_df.isnull().sum())\n",
        "\n",
        "# Identify numeric and non-numeric columns\n",
        "numeric_cols = inherited_houses_df.select_dtypes(include=['number']).columns\n",
        "non_numeric_cols = inherited_houses_df.select_dtypes(exclude=['number']).columns\n",
        "\n",
        "# Handle missing data\n",
        "# Fill numeric columns with their median\n",
        "inherited_houses_df[numeric_cols] = inherited_houses_df[numeric_cols].fillna(inherited_houses_df[numeric_cols].median())\n",
        "\n",
        "# Fill non-numeric columns with a placeholder or mode (e.g., most frequent value)\n",
        "for col in non_numeric_cols:\n",
        "    inherited_houses_df[col] = inherited_houses_df[col].fillna(inherited_houses_df[col].mode()[0])\n",
        "\n",
        "# Print confirmation\n",
        "print(\"Missing data handled successfully!\")\n",
        "print(inherited_houses_df.isnull().sum())"
      ]
    },
    {
      "cell_type": "markdown",
      "metadata": {},
      "source": [
        "#  Save Cleaned Data"
      ]
    },
    {
      "cell_type": "code",
      "execution_count": 31,
      "metadata": {},
      "outputs": [
        {
          "name": "stdout",
          "output_type": "stream",
          "text": [
            "Cleaned datasets saved.\n"
          ]
        }
      ],
      "source": [
        "# Save the cleaned datasets back to the data folder\n",
        "house_prices_df.to_csv(\"data/cleaned_house_prices.csv\", index=False)\n",
        "inherited_houses_df.to_csv(\"data/cleaned_inherited_houses.csv\", index=False)\n",
        "\n",
        "print(\"Cleaned datasets saved.\")"
      ]
    },
    {
      "cell_type": "markdown",
      "metadata": {},
      "source": [
        "---"
      ]
    },
    {
      "cell_type": "markdown",
      "metadata": {},
      "source": [
        "NOTE"
      ]
    },
    {
      "cell_type": "markdown",
      "metadata": {},
      "source": [
        "* You may add as many sections as you want, as long as they support your project workflow.\n",
        "* All notebook's cells should be run top-down (you can't create a dynamic wherein a given point you need to go back to a previous cell to execute some task, like go back to a previous cell and refresh a variable content)"
      ]
    },
    {
      "cell_type": "markdown",
      "metadata": {},
      "source": [
        "---"
      ]
    },
    {
      "cell_type": "markdown",
      "metadata": {
        "id": "ltNetd085qHf"
      },
      "source": [
        "# Push files to Repo"
      ]
    },
    {
      "cell_type": "markdown",
      "metadata": {},
      "source": [
        "* If you do not need to push files to Repo, you may replace this section with \"Conclusions and Next Steps\" and state your conclusions and next steps."
      ]
    },
    {
      "cell_type": "code",
      "execution_count": null,
      "metadata": {
        "id": "aKlnIozA4eQO",
        "outputId": "fd09bc1f-adb1-4511-f6ce-492a6af570c0"
      },
      "outputs": [],
      "source": [
        "import os\n",
        "try:\n",
        "  # create here your folder\n",
        "  # os.makedirs(name='')\n",
        "except Exception as e:\n",
        "  print(e)\n"
      ]
    }
  ],
  "metadata": {
    "accelerator": "GPU",
    "colab": {
      "name": "Data Practitioner Jupyter Notebook.ipynb",
      "provenance": [],
      "toc_visible": true
    },
    "kernelspec": {
      "display_name": "Python 3",
      "language": "python",
      "name": "python3"
    },
    "language_info": {
      "codemirror_mode": {
        "name": "ipython",
        "version": 3
      },
      "file_extension": ".py",
      "mimetype": "text/x-python",
      "name": "python",
      "nbconvert_exporter": "python",
      "pygments_lexer": "ipython3",
      "version": "3.12.2"
    },
    "orig_nbformat": 2
  },
  "nbformat": 4,
  "nbformat_minor": 2
}
