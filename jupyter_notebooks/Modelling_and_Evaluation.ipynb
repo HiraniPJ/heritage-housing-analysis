{
 "cells": [
  {
   "cell_type": "markdown",
   "metadata": {},
   "source": [
    "# **Modelling and Evaluation**"
   ]
  },
  {
   "cell_type": "markdown",
   "metadata": {},
   "source": [
    "## Objectives\n",
    "\n",
    "* Answer business requirement 1: Predict house prices using machine learning.\n",
    "* Answer business requirement 2: Evaluate model performance using key metrics.\n",
    "* Answer business requirement 3: Save and visualize results for future use.\n",
    "\n",
    "## Inputs\n",
    "\n",
    "* `house_prices_records.csv`: Dataset containing house price information.\n",
    "* `inherited_houses.csv`: Dataset containing inherited house details.\n",
    "\n",
    "## Outputs\n",
    "* Model evaluation metrics (e.g., RMSE, R^2).\n",
    "* Feature importance plot.\n",
    "* Prediction visualization.\n",
    "* Trained model file saved as a `.pkl` file."
   ]
  },
  {
   "cell_type": "markdown",
   "metadata": {},
   "source": [
    "# Import Required Libraries"
   ]
  },
  {
   "cell_type": "code",
   "execution_count": 1,
   "metadata": {},
   "outputs": [],
   "source": [
    "# Import essential libraries\n",
    "import os\n",
    "import pandas as pd\n",
    "import numpy as np\n",
    "import matplotlib.pyplot as plt\n",
    "import seaborn as sns\n",
    "from sklearn.model_selection import train_test_split\n",
    "from sklearn.linear_model import LinearRegression\n",
    "from sklearn.metrics import mean_squared_error, r2_score\n",
    "import joblib\n",
    "\n",
    "# Set visualization style\n",
    "sns.set_style(\"whitegrid\")\n"
   ]
  },
  {
   "cell_type": "markdown",
   "metadata": {},
   "source": [
    "# Change working directory"
   ]
  },
  {
   "cell_type": "code",
   "execution_count": 2,
   "metadata": {},
   "outputs": [
    {
     "data": {
      "text/plain": [
       "'/workspace/heritage-housing-analysis/jupyter_notebooks'"
      ]
     },
     "execution_count": 2,
     "metadata": {},
     "output_type": "execute_result"
    }
   ],
   "source": [
    "current_dir = os.getcwd()\n",
    "current_dir"
   ]
  },
  {
   "cell_type": "code",
   "execution_count": 3,
   "metadata": {},
   "outputs": [
    {
     "name": "stdout",
     "output_type": "stream",
     "text": [
      "You set a new current directory\n"
     ]
    }
   ],
   "source": [
    "os.chdir(os.path.dirname(current_dir))\n",
    "print(\"You set a new current directory\")"
   ]
  },
  {
   "cell_type": "code",
   "execution_count": 4,
   "metadata": {},
   "outputs": [
    {
     "data": {
      "text/plain": [
       "'/workspace/heritage-housing-analysis'"
      ]
     },
     "execution_count": 4,
     "metadata": {},
     "output_type": "execute_result"
    }
   ],
   "source": [
    "current_dir = os.getcwd()\n",
    "current_dir"
   ]
  },
  {
   "cell_type": "markdown",
   "metadata": {},
   "source": [
    "# Load and Prepare Data"
   ]
  },
  {
   "cell_type": "code",
   "execution_count": 6,
   "metadata": {},
   "outputs": [
    {
     "name": "stdout",
     "output_type": "stream",
     "text": [
      "Loaded House Prices Dataset:\n",
      "   1stFlrSF  2ndFlrSF  BedroomAbvGr BsmtExposure  BsmtFinSF1 BsmtFinType1  \\\n",
      "0       856     854.0           3.0           No         706          GLQ   \n",
      "1      1262       0.0           3.0           Gd         978          ALQ   \n",
      "2       920     866.0           3.0           Mn         486          GLQ   \n",
      "3       961       NaN           NaN           No         216          ALQ   \n",
      "4      1145       NaN           4.0           Av         655          GLQ   \n",
      "\n",
      "   BsmtUnfSF  EnclosedPorch  GarageArea GarageFinish  ...  LotFrontage  \\\n",
      "0        150            0.0         548          RFn  ...         65.0   \n",
      "1        284            NaN         460          RFn  ...         80.0   \n",
      "2        434            0.0         608          RFn  ...         68.0   \n",
      "3        540            NaN         642          Unf  ...         60.0   \n",
      "4        490            0.0         836          RFn  ...         84.0   \n",
      "\n",
      "   MasVnrArea OpenPorchSF  OverallCond  OverallQual  TotalBsmtSF  WoodDeckSF  \\\n",
      "0       196.0          61            5            7          856         0.0   \n",
      "1         0.0           0            8            6         1262         NaN   \n",
      "2       162.0          42            5            7          920         NaN   \n",
      "3         0.0          35            5            7          756         NaN   \n",
      "4       350.0          84            5            8         1145         NaN   \n",
      "\n",
      "   YearBuilt  YearRemodAdd  SalePrice  \n",
      "0       2003          2003     208500  \n",
      "1       1976          1976     181500  \n",
      "2       2001          2002     223500  \n",
      "3       1915          1970     140000  \n",
      "4       2000          2000     250000  \n",
      "\n",
      "[5 rows x 24 columns]\n",
      "\n",
      "Loaded Inherited Houses Dataset:\n",
      "   1stFlrSF  2ndFlrSF  BedroomAbvGr BsmtExposure  BsmtFinSF1 BsmtFinType1  \\\n",
      "0       896         0             2           No       468.0          Rec   \n",
      "1      1329         0             3           No       923.0          ALQ   \n",
      "2       928       701             3           No       791.0          GLQ   \n",
      "3       926       678             3           No       602.0          GLQ   \n",
      "\n",
      "   BsmtUnfSF  EnclosedPorch  GarageArea GarageFinish  ...  LotArea  \\\n",
      "0      270.0              0       730.0          Unf  ...    11622   \n",
      "1      406.0              0       312.0          Unf  ...    14267   \n",
      "2      137.0              0       482.0          Fin  ...    13830   \n",
      "3      324.0              0       470.0          Fin  ...     9978   \n",
      "\n",
      "   LotFrontage MasVnrArea  OpenPorchSF  OverallCond  OverallQual  TotalBsmtSF  \\\n",
      "0         80.0        0.0            0            6            5        882.0   \n",
      "1         81.0      108.0           36            6            6       1329.0   \n",
      "2         74.0        0.0           34            5            5        928.0   \n",
      "3         78.0       20.0           36            6            6        926.0   \n",
      "\n",
      "   WoodDeckSF  YearBuilt  YearRemodAdd  \n",
      "0         140       1961          1961  \n",
      "1         393       1958          1958  \n",
      "2         212       1997          1998  \n",
      "3         360       1998          1998  \n",
      "\n",
      "[4 rows x 23 columns]\n"
     ]
    }
   ],
   "source": [
    "# Define the path for the data folder\n",
    "data_path = \"data/house-price-20211124T154130Z-001/house-price\"\n",
    "\n",
    "# Load the house prices dataset\n",
    "house_prices_file = os.path.join(data_path, \"house_prices_records.csv\")\n",
    "house_prices_df = pd.read_csv(house_prices_file)\n",
    "print(\"Loaded House Prices Dataset:\")\n",
    "print(house_prices_df.head())\n",
    "\n",
    "# Load the inherited houses dataset\n",
    "inherited_houses_file = os.path.join(data_path, \"inherited_houses.csv\")\n",
    "inherited_houses_df = pd.read_csv(inherited_houses_file)\n",
    "print(\"\\nLoaded Inherited Houses Dataset:\")\n",
    "print(inherited_houses_df.head())"
   ]
  },
  {
   "cell_type": "markdown",
   "metadata": {},
   "source": [
    "# Data Preprocessing"
   ]
  },
  {
   "cell_type": "code",
   "execution_count": 9,
   "metadata": {},
   "outputs": [
    {
     "name": "stdout",
     "output_type": "stream",
     "text": [
      "\n",
      "Missing values in House Prices dataset:\n",
      "1stFlrSF           0\n",
      "2ndFlrSF           0\n",
      "BedroomAbvGr       0\n",
      "BsmtExposure      38\n",
      "BsmtFinSF1         0\n",
      "BsmtFinType1     145\n",
      "BsmtUnfSF          0\n",
      "EnclosedPorch      0\n",
      "GarageArea         0\n",
      "GarageFinish     235\n",
      "GarageYrBlt        0\n",
      "GrLivArea          0\n",
      "KitchenQual        0\n",
      "LotArea            0\n",
      "LotFrontage        0\n",
      "MasVnrArea         0\n",
      "OpenPorchSF        0\n",
      "OverallCond        0\n",
      "OverallQual        0\n",
      "TotalBsmtSF        0\n",
      "WoodDeckSF         0\n",
      "YearBuilt          0\n",
      "YearRemodAdd       0\n",
      "SalePrice          0\n",
      "dtype: int64\n",
      "\n",
      "Missing values in Inherited Houses dataset:\n",
      "1stFlrSF         0\n",
      "2ndFlrSF         0\n",
      "BedroomAbvGr     0\n",
      "BsmtExposure     0\n",
      "BsmtFinSF1       0\n",
      "BsmtFinType1     0\n",
      "BsmtUnfSF        0\n",
      "EnclosedPorch    0\n",
      "GarageArea       0\n",
      "GarageFinish     0\n",
      "GarageYrBlt      0\n",
      "GrLivArea        0\n",
      "KitchenQual      0\n",
      "LotArea          0\n",
      "LotFrontage      0\n",
      "MasVnrArea       0\n",
      "OpenPorchSF      0\n",
      "OverallCond      0\n",
      "OverallQual      0\n",
      "TotalBsmtSF      0\n",
      "WoodDeckSF       0\n",
      "YearBuilt        0\n",
      "YearRemodAdd     0\n",
      "dtype: int64\n",
      "\n",
      "After filling missing values in House Prices dataset:\n",
      "1stFlrSF           0\n",
      "2ndFlrSF           0\n",
      "BedroomAbvGr       0\n",
      "BsmtExposure      38\n",
      "BsmtFinSF1         0\n",
      "BsmtFinType1     145\n",
      "BsmtUnfSF          0\n",
      "EnclosedPorch      0\n",
      "GarageArea         0\n",
      "GarageFinish     235\n",
      "GarageYrBlt        0\n",
      "GrLivArea          0\n",
      "KitchenQual        0\n",
      "LotArea            0\n",
      "LotFrontage        0\n",
      "MasVnrArea         0\n",
      "OpenPorchSF        0\n",
      "OverallCond        0\n",
      "OverallQual        0\n",
      "TotalBsmtSF        0\n",
      "WoodDeckSF         0\n",
      "YearBuilt          0\n",
      "YearRemodAdd       0\n",
      "SalePrice          0\n",
      "dtype: int64\n",
      "\n",
      "After filling missing values in Inherited Houses dataset:\n",
      "1stFlrSF         0\n",
      "2ndFlrSF         0\n",
      "BedroomAbvGr     0\n",
      "BsmtExposure     0\n",
      "BsmtFinSF1       0\n",
      "BsmtFinType1     0\n",
      "BsmtUnfSF        0\n",
      "EnclosedPorch    0\n",
      "GarageArea       0\n",
      "GarageFinish     0\n",
      "GarageYrBlt      0\n",
      "GrLivArea        0\n",
      "KitchenQual      0\n",
      "LotArea          0\n",
      "LotFrontage      0\n",
      "MasVnrArea       0\n",
      "OpenPorchSF      0\n",
      "OverallCond      0\n",
      "OverallQual      0\n",
      "TotalBsmtSF      0\n",
      "WoodDeckSF       0\n",
      "YearBuilt        0\n",
      "YearRemodAdd     0\n",
      "dtype: int64\n"
     ]
    }
   ],
   "source": [
    "# Check for missing values\n",
    "print(\"\\nMissing values in House Prices dataset:\")\n",
    "print(house_prices_df.isnull().sum())\n",
    "\n",
    "print(\"\\nMissing values in Inherited Houses dataset:\")\n",
    "print(inherited_houses_df.isnull().sum())\n",
    "\n",
    "# Fill missing values (if any) for numerical columns only\n",
    "numerical_columns_house_prices = house_prices_df.select_dtypes(include=['number']).columns\n",
    "numerical_columns_inherited_houses = inherited_houses_df.select_dtypes(include=['number']).columns\n",
    "\n",
    "house_prices_df[numerical_columns_house_prices] = house_prices_df[numerical_columns_house_prices].fillna(\n",
    "    house_prices_df[numerical_columns_house_prices].mean()\n",
    ")\n",
    "\n",
    "inherited_houses_df[numerical_columns_inherited_houses] = inherited_houses_df[numerical_columns_inherited_houses].fillna(\n",
    "    inherited_houses_df[numerical_columns_inherited_houses].mean()\n",
    ")\n",
    "\n",
    "print(\"\\nAfter filling missing values in House Prices dataset:\")\n",
    "print(house_prices_df.isnull().sum())\n",
    "\n",
    "print(\"\\nAfter filling missing values in Inherited Houses dataset:\")\n",
    "print(inherited_houses_df.isnull().sum())\n"
   ]
  },
  {
   "cell_type": "markdown",
   "metadata": {},
   "source": [
    "# Feature Selection"
   ]
  },
  {
   "cell_type": "code",
   "execution_count": 10,
   "metadata": {},
   "outputs": [
    {
     "name": "stdout",
     "output_type": "stream",
     "text": [
      "\n",
      "Selected Features:\n",
      "   GrLivArea  GarageArea  TotalBsmtSF  OverallQual\n",
      "0       1710         548          856            7\n",
      "1       1262         460         1262            6\n",
      "2       1786         608          920            7\n",
      "3       1717         642          756            7\n",
      "4       2198         836         1145            8\n"
     ]
    }
   ],
   "source": [
    "# Select features for the model (adjust as needed)\n",
    "selected_features = [\"GrLivArea\", \"GarageArea\", \"TotalBsmtSF\", \"OverallQual\"]\n",
    "target_column = \"SalePrice\"\n",
    "\n",
    "# Prepare X and y for house prices dataset\n",
    "X = house_prices_df[selected_features]\n",
    "y = house_prices_df[target_column]\n",
    "\n",
    "print(\"\\nSelected Features:\")\n",
    "print(X.head())\n"
   ]
  },
  {
   "cell_type": "markdown",
   "metadata": {},
   "source": [
    "# Split Data into Training and Test Sets"
   ]
  },
  {
   "cell_type": "code",
   "execution_count": 11,
   "metadata": {},
   "outputs": [
    {
     "name": "stdout",
     "output_type": "stream",
     "text": [
      "\n",
      "Training and Test Set Sizes:\n",
      "Training set: (1168, 4)\n",
      "Test set: (292, 4)\n"
     ]
    }
   ],
   "source": [
    "# Split the data into training and testing sets\n",
    "X_train, X_test, y_train, y_test = train_test_split(X, y, test_size=0.2, random_state=42)\n",
    "\n",
    "print(\"\\nTraining and Test Set Sizes:\")\n",
    "print(f\"Training set: {X_train.shape}\")\n",
    "print(f\"Test set: {X_test.shape}\")\n"
   ]
  },
  {
   "cell_type": "markdown",
   "metadata": {},
   "source": [
    "# Train the Model"
   ]
  },
  {
   "cell_type": "code",
   "execution_count": 12,
   "metadata": {},
   "outputs": [
    {
     "name": "stdout",
     "output_type": "stream",
     "text": [
      "\n",
      "Model Training Complete.\n"
     ]
    }
   ],
   "source": [
    "# Initialize and train the model\n",
    "model = LinearRegression()\n",
    "model.fit(X_train, y_train)\n",
    "\n",
    "print(\"\\nModel Training Complete.\")\n"
   ]
  },
  {
   "cell_type": "markdown",
   "metadata": {},
   "source": [
    "# Evaluate the Model"
   ]
  },
  {
   "cell_type": "code",
   "execution_count": 13,
   "metadata": {},
   "outputs": [
    {
     "name": "stdout",
     "output_type": "stream",
     "text": [
      "\n",
      "Model Evaluation:\n",
      "Mean Squared Error (MSE): 1603726916.16\n",
      "R-squared (R2): 0.79\n"
     ]
    },
    {
     "data": {
      "image/png": "[encoded data removed]",
      "text/plain": [
       "<Figure size 800x600 with 1 Axes>"
      ]
     },
     "metadata": {},
     "output_type": "display_data"
    }
   ],
   "source": [
    "# Predict on the test set\n",
    "y_pred = model.predict(X_test)\n",
    "\n",
    "# Evaluate model performance\n",
    "mse = mean_squared_error(y_test, y_pred)\n",
    "r2 = r2_score(y_test, y_pred)\n",
    "\n",
    "print(\"\\nModel Evaluation:\")\n",
    "print(f\"Mean Squared Error (MSE): {mse:.2f}\")\n",
    "print(f\"R-squared (R2): {r2:.2f}\")\n",
    "\n",
    "# Plot actual vs predicted values\n",
    "plt.figure(figsize=(8, 6))\n",
    "plt.scatter(y_test, y_pred, alpha=0.7)\n",
    "plt.xlabel(\"Actual Sale Price\")\n",
    "plt.ylabel(\"Predicted Sale Price\")\n",
    "plt.title(\"Actual vs Predicted Sale Price\")\n",
    "plt.savefig(\"outputs/model_actual_vs_predicted.png\", bbox_inches='tight')\n",
    "plt.show()\n"
   ]
  },
  {
   "cell_type": "markdown",
   "metadata": {},
   "source": [
    "# Save the Model"
   ]
  },
  {
   "cell_type": "code",
   "execution_count": 14,
   "metadata": {},
   "outputs": [
    {
     "name": "stdout",
     "output_type": "stream",
     "text": [
      "Model saved at outputs/trained_model.pkl\n"
     ]
    }
   ],
   "source": [
    "# Save the trained model for future use\n",
    "model_file = \"outputs/trained_model.pkl\"\n",
    "joblib.dump(model, model_file)\n",
    "print(f\"Model saved at {model_file}\")\n"
   ]
  },
  {
   "cell_type": "markdown",
   "metadata": {},
   "source": [
    "# Predict on New Data"
   ]
  },
  {
   "cell_type": "code",
   "execution_count": 15,
   "metadata": {},
   "outputs": [
    {
     "name": "stdout",
     "output_type": "stream",
     "text": [
      "\n",
      "Inherited Houses with Predicted Prices:\n",
      "   1stFlrSF  2ndFlrSF  BedroomAbvGr BsmtExposure  BsmtFinSF1 BsmtFinType1  \\\n",
      "0       896         0             2           No       468.0          Rec   \n",
      "1      1329         0             3           No       923.0          ALQ   \n",
      "2       928       701             3           No       791.0          GLQ   \n",
      "3       926       678             3           No       602.0          GLQ   \n",
      "\n",
      "   BsmtUnfSF  EnclosedPorch  GarageArea GarageFinish  ...  LotFrontage  \\\n",
      "0      270.0              0       730.0          Unf  ...         80.0   \n",
      "1      406.0              0       312.0          Unf  ...         81.0   \n",
      "2      137.0              0       482.0          Fin  ...         74.0   \n",
      "3      324.0              0       470.0          Fin  ...         78.0   \n",
      "\n",
      "   MasVnrArea OpenPorchSF  OverallCond  OverallQual  TotalBsmtSF  WoodDeckSF  \\\n",
      "0         0.0           0            6            5        882.0         140   \n",
      "1       108.0          36            6            6       1329.0         393   \n",
      "2         0.0          34            5            5        928.0         212   \n",
      "3        20.0          36            6            6        926.0         360   \n",
      "\n",
      "   YearBuilt  YearRemodAdd  PredictedPrice  \n",
      "0       1961          1961   137088.495764  \n",
      "1       1958          1958   166884.115085  \n",
      "2       1997          1998   154310.498096  \n",
      "3       1998          1998   177697.037361  \n",
      "\n",
      "[4 rows x 24 columns]\n",
      "Predictions saved at outputs/inherited_houses_with_predictions.csv\n"
     ]
    }
   ],
   "source": [
    "# Predict on the inherited houses dataset\n",
    "X_inherited = inherited_houses_df[selected_features]\n",
    "predicted_prices = model.predict(X_inherited)\n",
    "\n",
    "inherited_houses_df[\"PredictedPrice\"] = predicted_prices\n",
    "print(\"\\nInherited Houses with Predicted Prices:\")\n",
    "print(inherited_houses_df.head())\n",
    "\n",
    "# Save the results\n",
    "results_file = \"outputs/inherited_houses_with_predictions.csv\"\n",
    "inherited_houses_df.to_csv(results_file, index=False)\n",
    "print(f\"Predictions saved at {results_file}\")\n"
   ]
  }
 ],
 "metadata": {
  "kernelspec": {
   "display_name": "Python 3",
   "language": "python",
   "name": "python3"
  },
  "language_info": {
   "codemirror_mode": {
    "name": "ipython",
    "version": 3
   },
   "file_extension": ".py",
   "mimetype": "text/x-python",
   "name": "python",
   "nbconvert_exporter": "python",
   "pygments_lexer": "ipython3",
   "version": "3.12.2"
  }
 },
 "nbformat": 4,
 "nbformat_minor": 2
}
